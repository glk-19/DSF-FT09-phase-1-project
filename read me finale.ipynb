{
  "nbformat": 4,
  "nbformat_minor": 0,
  "metadata": {
    "colab": {
      "provenance": []
    },
    "kernelspec": {
      "name": "python3",
      "display_name": "Python 3"
    },
    "language_info": {
      "name": "python"
    }
  },
  "cells": [
    {
      "cell_type": "markdown",
      "source": [
        "#Aviation Safety Analysis Project\n",
        "Project Overview\n",
        "For this project, data cleaning, imputation, analysis, and visualization were done to generate insights for a business stakeholder.\n",
        "\n",
        "##Introduction\n",
        "This project is designed to carry out a research study on aircraft accidents and provide a detailed report on which aircraft is the safest, as well as provide recommendations to a business owner who is venturing into a new business venture. The project entails business understanding, data understanding, loading the datasets, data wrangling, data cleaning, and data visualizations.\n",
        "\n",
        "##Business Problem\n",
        "A company is embarking on the expansion into a new industry to diversify its portfolio. A strategic decision has been made to venture into the aviation sector, specifically focusing on the acquisition and operation of airplanes for both commercial and private enterprises. However, amidst this ambitious endeavor, a critical knowledge gap has been identified: there is an absence of understanding regarding the potential risk associated with aircraft operation.\n",
        "\n",
        "This project meticulously assesses and determines which aircraft present the lowest risk profile for the company to initiate the new business venture. The project's goal is to provide actionable insights to the head of the newly established aviation division, enabling informed decision-making regarding the selection and acquisition of aircraft that align with the overarching business objectives while mitigating potential risk.\n",
        "\n",
        "A detailed analysis of aircraft models, weather conditions, number of engines, and broad phases of flight has been done in an attempt to cover the existing knowledge gap. The resulting insights will serve as the cornerstone for strategic planning and decision-making within the aviation division, guiding the selection and procurement of aircraft models that offer the optimal balance between risk mitigation and operational efficiency. Through diligent investigation and informed analysis, the study aims to empower the leadership of the aviation division with the necessary knowledge and insights to navigate this new venture successfully, ensuring that the expansion into the aviation industry is characterized by prudent risk management and sustainable growth.\n",
        "\n",
        "##Data Understanding\n",
        "The project utilizes a dataset derived from Kaggle which comprises aviation accident data sourced from the National Transportation Safety Board, covering incidents within civil aviation from 1962 to 2023, both within the United States and in international waters. The data contains over 90,000 rows and 31 columns.\n",
        "\n",
        "However, this project has utilized only 10 columns that are relevant in answering the project objective. The study puts heavy focus on manufacturer-based attributes such as the make and model, number of engines in an aircraft as well as other situational variables such as the broad phase of flight, the weather condition, injury severity, and the total death count. Dataset\n",
        "\n",
        "##Data Visualization\n",
        "###Important Visualizations\n",
        "Accident Frequency by Aircraft Type: This bar chart displays the frequency of accidents for different aircraft types. It helps identify which aircraft types have the highest and lowest accident rates.\n",
        "Accident Causes and Severity: A stacked bar chart showing the causes of accidents and their severity. This visualization highlights the most common causes of accidents and the proportion of severe accidents, aiding in understanding risk factors.\n",
        "Accident Frequency by Phase of Flight: A bar chart showing the distribution of accidents across different phases of flight (e.g., takeoff, landing, cruise). This helps identify the most critical phases where accidents are more likely to occur.\n",
        "Conclusions\n",
        "##Key Findings\n",
        "Aircraft with one engine are involved in most accidents. Aircraft manufacturers that make aircraft with one engine risk human life because in the event of engine technicality, a subsequent accident is more prevalent.\n",
        "Most accidents occur during landing, takeoff, and cruise respectively.\n",
        "The Cessna aircraft model reports a higher level of accident incidents.\n",
        "##Recommendations\n",
        "Regular maintenance and inspection of aircraft. This is critically essential for single-engine aircraft to ensure appropriate workability standards and consequent protection of human lives.\n",
        "Focus on safety procedures and training during critical phases of flight. Communicate safety procedures to passengers and train the cabin crew on first aid to affected individuals.\n",
        "Invest in the latest aircraft with the highest safety standards and technologies.\n",
        "#Final Project Submission\n",
        "Please fill out:\n",
        "\n",
        "Student name: Martin Kabare\n",
        "Student pace: Full time Remote\n",
        "Scheduled project review date/time:\n",
        "Instructor name: Faith\n",
        "Blog post URL:\n"
      ],
      "metadata": {
        "id": "LkSFc7leAhVz"
      }
    }
  ]
}